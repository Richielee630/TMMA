{
 "cells": [
  {
   "cell_type": "markdown",
   "id": "c1278eb0-ad96-4d9e-8db7-eb3644818b9c",
   "metadata": {},
   "source": [
    "# **Jupyter Notebook: DistilBERT CPU 计算分析**\n",
    "\n",
    "## **Block 1: 加载模型**\n",
    "本 block 负责：\n",
    "- **加载 `DistilBERT` 预训练模型**\n",
    "- **加载 `DistilBERT` Tokenizer**\n",
    "- **打印模型基本信息（参数量、层数、隐藏大小等）**"
   ]
  },
  {
   "cell_type": "code",
   "execution_count": 146,
   "id": "bfed0f8f-556b-4e68-9526-9486b1af74f4",
   "metadata": {},
   "outputs": [
    {
     "name": "stdout",
     "output_type": "stream",
     "text": [
      "Using PyTorch version: 2.5.1\n",
      "\n",
      "===== DistilBERT Model Info =====\n",
      "Number of Parameters: 66,362,880\n",
      "Number of Transformer Layers: 6\n",
      "Hidden Size: 768\n",
      "FFN Hidden Size (hidden_dim): 3072\n",
      "Number of Attention Heads: 12\n",
      "Embedding Layer dtype: torch.float32\n",
      "Transformer Block 0 FFN dtype: torch.float32\n",
      "Transformer Block 1 Self-Attention dtype: torch.float32\n"
     ]
    }
   ],
   "source": [
    "### Block 1: 加载模型 ###\n",
    "import torch\n",
    "import time\n",
    "from transformers import DistilBertTokenizer, DistilBertModel\n",
    "\n",
    "# 打印 PyTorch 版本\n",
    "print(f\"Using PyTorch version: {torch.__version__}\")\n",
    "\n",
    "# 加载预训练模型和 tokenizer\n",
    "tokenizer = DistilBertTokenizer.from_pretrained(\"distilbert-base-uncased\")\n",
    "model = DistilBertModel.from_pretrained(\"distilbert-base-uncased\")\n",
    "\n",
    "# 确保模型在 CPU 上运行\n",
    "device = torch.device(\"cpu\")\n",
    "model.to(device)\n",
    "\n",
    "# 读取模型配置信息\n",
    "config_dict = model.config.to_dict()\n",
    "\n",
    "print(\"\\n===== DistilBERT Model Info =====\")\n",
    "print(f\"Number of Parameters: {sum(p.numel() for p in model.parameters()):,}\")\n",
    "print(f\"Number of Transformer Layers: {config_dict['n_layers']}\")\n",
    "print(f\"Hidden Size: {config_dict['dim']}\")\n",
    "print(f\"FFN Hidden Size (hidden_dim): {config_dict['hidden_dim']}\")\n",
    "print(f\"Number of Attention Heads: {config_dict['n_heads']}\")\n",
    "\n",
    "print(f\"Embedding Layer dtype: {model.embeddings.word_embeddings.weight.dtype}\")  # \n",
    "print(f\"Transformer Block 0 FFN dtype: {model.transformer.layer[0].ffn.lin1.weight.dtype}\")  # \n",
    "print(f\"Transformer Block 1 Self-Attention dtype: {model.transformer.layer[1].attention.q_lin.weight.dtype}\")"
   ]
  },
  {
   "cell_type": "markdown",
   "id": "44bd47c2-3af7-4557-9094-78bb14bcc30d",
   "metadata": {},
   "source": [
    "## **Block 2: Tokenization**\n",
    "本 block 负责：\n",
    "- **将输入文本转换为 Token**\n",
    "- **打印 Tokenized 结果**\n",
    "- **查看 `input_ids` 和 `attention_mask`**\n",
    "  "
   ]
  },
  {
   "cell_type": "code",
   "execution_count": 149,
   "id": "2f784745-a509-4725-b252-23c383234fbf",
   "metadata": {},
   "outputs": [
    {
     "name": "stdout",
     "output_type": "stream",
     "text": [
      "\n",
      "===== Tokenization 结果 =====\n",
      "Input Text: I love deep learning. It's very interesting.\n",
      "Tokenized Tokens: ['i', 'love', 'deep', 'learning', '.', 'it', \"'\", 's', 'very', 'interesting', '.']\n",
      "Token IDs: tensor([[ 101, 1045, 2293, 2784, 4083, 1012, 2009, 1005, 1055, 2200, 5875, 1012,\n",
      "          102]])\n",
      "Attention Mask: tensor([[1, 1, 1, 1, 1, 1, 1, 1, 1, 1, 1, 1, 1]])\n"
     ]
    }
   ],
   "source": [
    " ### Block 2: Tokenization ###\n",
    "# 定义输入文本\n",
    "text = \"I love deep learning. It's very interesting.\"\n",
    "\n",
    "# 进行 Tokenization\n",
    "inputs = tokenizer(text, return_tensors=\"pt\")\n",
    "\n",
    "# 打印 Tokenized 结果\n",
    "print(\"\\n===== Tokenization 结果 =====\")\n",
    "print(f\"Input Text: {text}\")\n",
    "print(f\"Tokenized Tokens: {tokenizer.tokenize(text)}\")\n",
    "print(f\"Token IDs: {inputs['input_ids']}\")\n",
    "print(f\"Attention Mask: {inputs['attention_mask']}\")"
   ]
  },
  {
   "cell_type": "markdown",
   "id": "c340dcbf-dcda-4581-b53c-f73d83f9a36f",
   "metadata": {},
   "source": [
    "## **Block 3: Embedding 计算**\n",
    "本 block 负责：\n",
    "- **将 Token ID 转换为 768 维嵌入向量**\n",
    "- **查看 `Embedding` 输出形状**\n",
    "- **计算 `Embedding` FLOPs（计算量）**"
   ]
  },
  {
   "cell_type": "code",
   "execution_count": 152,
   "id": "b204082c-99f0-4b2c-a7bd-9545a958e244",
   "metadata": {},
   "outputs": [
    {
     "name": "stdout",
     "output_type": "stream",
     "text": [
      "\n",
      "===== Token Embedding 结果 =====\n",
      "Token IDs Shape: torch.Size([1, 13])\n",
      "Embedding Output Shape: torch.Size([1, 13, 768])\n",
      "Embedding FLOPs: 9,984 FLOPs\n"
     ]
    }
   ],
   "source": [
    "### Block 3: 计算 Token Embedding ###\n",
    "# 获取模型的 Embedding 层\n",
    "embedding_layer = model.embeddings.word_embeddings\n",
    "\n",
    "# 计算 Token ID 的 Embedding\n",
    "token_embeddings = embedding_layer(inputs[\"input_ids\"])\n",
    "\n",
    "# 打印结果\n",
    "print(\"\\n===== Token Embedding 结果 =====\")\n",
    "print(f\"Token IDs Shape: {inputs['input_ids'].shape}\")\n",
    "print(f\"Embedding Output Shape: {token_embeddings.shape}\")  # (batch_size, seq_len, hidden_dim)\n",
    "\n",
    "# 计算 FLOPs\n",
    "seq_length = token_embeddings.shape[1]\n",
    "hidden_dim = token_embeddings.shape[2]\n",
    "total_ebd_flops = seq_length * hidden_dim\n",
    "\n",
    "print(f\"Embedding FLOPs: {total_ebd_flops:,} FLOPs\")"
   ]
  },
  {
   "cell_type": "markdown",
   "id": "88fdd47d-2e9f-470a-aa0c-9c23f3210b4d",
   "metadata": {},
   "source": [
    "## **Block 4: Self-Attention 计算**\n",
    "本 block 负责：\n",
    "- **计算 Query (Q), Key (K), Value (V)**\n",
    "- **计算 `QK^T`（Attention Scores）**\n",
    "- **计算 `Softmax(QK^T) V`（最终 Attention 结果）**\n",
    "- **统计 Self-Attention FLOPs**"
   ]
  },
  {
   "cell_type": "code",
   "execution_count": 155,
   "id": "814d04eb-b30b-4061-bcaa-9e723611c509",
   "metadata": {},
   "outputs": [
    {
     "name": "stdout",
     "output_type": "stream",
     "text": [
      "\n",
      "===== Self-Attention 计算结果 =====\n",
      "Attention Output Shape: torch.Size([1, 13, 768])\n",
      "Self-Attention FLOPs: 23.26 MFLOPs\n"
     ]
    }
   ],
   "source": [
    "### Block 4: 计算 Self-Attention ###\n",
    "import torch.nn.functional as F\n",
    "\n",
    "# 提取 DistilBERT 的 Transformer 第一层\n",
    "transformer_layer = model.transformer.layer[0]  # 取第一层 Transformer\n",
    "\n",
    "# 获取 Self-Attention 权重\n",
    "W_Q = transformer_layer.attention.q_lin.weight\n",
    "W_K = transformer_layer.attention.k_lin.weight\n",
    "W_V = transformer_layer.attention.v_lin.weight\n",
    "\n",
    "# 计算 Q, K, V\n",
    "Q = torch.matmul(token_embeddings, W_Q.T)\n",
    "K = torch.matmul(token_embeddings, W_K.T)\n",
    "V = torch.matmul(token_embeddings, W_V.T)\n",
    "\n",
    "# 计算 QK^T / sqrt(d_k)\n",
    "d_k = Q.shape[-1] ** 0.5\n",
    "QK_T = torch.matmul(Q, K.transpose(-2, -1)) / d_k\n",
    "\n",
    "# 计算 Softmax(QK^T)\n",
    "attention_weights = F.softmax(QK_T, dim=-1)\n",
    "\n",
    "# 计算 Attention 结果\n",
    "attention_output = torch.matmul(attention_weights, V)\n",
    "\n",
    "# 打印结果\n",
    "print(\"\\n===== Self-Attention 计算结果 =====\")\n",
    "print(f\"Attention Output Shape: {attention_output.shape}\")\n",
    "\n",
    "# 计算 Self-Attention FLOPs\n",
    "flops_qkv = 3 * seq_length * hidden_dim * hidden_dim  # Q, K, V 计算\n",
    "flops_qk_t = seq_length * hidden_dim * seq_length  # QK^T 计算\n",
    "flops_softmax = seq_length * seq_length  # Softmax 计算\n",
    "flops_attn_v = seq_length * seq_length * hidden_dim  # Softmax(QK^T) @ V\n",
    "\n",
    "total_att_flops = flops_qkv + flops_qk_t + flops_softmax + flops_attn_v\n",
    "\n",
    "print(f\"Self-Attention FLOPs: {total_att_flops / 1e6:.2f} MFLOPs\")"
   ]
  },
  {
   "cell_type": "markdown",
   "id": "355df891-cd61-41c8-ba67-197470b83e24",
   "metadata": {},
   "source": [
    "## **Block 5: Feed Forward Network (FFN) 计算**\n",
    "本 block 负责：\n",
    "- **计算 `FFN(x) = ReLU(xW1 + b1) W2 + b2`**\n",
    "- **查看 `FFN` 输出形状**\n",
    "- **统计 `FFN` FLOPs（计算量）**"
   ]
  },
  {
   "cell_type": "code",
   "execution_count": 158,
   "id": "e98f5926-f56b-48bb-b7a9-b64429f405df",
   "metadata": {},
   "outputs": [
    {
     "name": "stdout",
     "output_type": "stream",
     "text": [
      "\n",
      "===== Feed Forward Network (FFN) 计算结果 =====\n",
      "FFN Output Shape: torch.Size([1, 13, 768])\n",
      "Feed Forward Network (FFN) FLOPs: 61.38 MFLOPs\n"
     ]
    }
   ],
   "source": [
    "### Block 5: 计算 Feed Forward Network (FFN) ###\n",
    "# 获取 FFN 权重\n",
    "W1 = transformer_layer.ffn.lin1.weight\n",
    "b1 = transformer_layer.ffn.lin1.bias\n",
    "W2 = transformer_layer.ffn.lin2.weight\n",
    "b2 = transformer_layer.ffn.lin2.bias\n",
    "\n",
    "# 计算 FFN(x) = ReLU(xW1 + b1) W2 + b2\n",
    "ffn_intermediate = torch.matmul(attention_output, W1.T) + b1\n",
    "ffn_activated = torch.relu(ffn_intermediate)\n",
    "ffn_output = torch.matmul(ffn_activated, W2.T) + b2\n",
    "\n",
    "# 打印结果\n",
    "print(\"\\n===== Feed Forward Network (FFN) 计算结果 =====\")\n",
    "print(f\"FFN Output Shape: {ffn_output.shape}\")\n",
    "\n",
    "# 计算 FFN FLOPs\n",
    "flops_ffn1 = seq_length * hidden_dim * 3072  # FFN 第一层 MatMul\n",
    "flops_relu = seq_length * 3072  # ReLU 计算\n",
    "flops_ffn2 = seq_length * 3072 * hidden_dim  # FFN 第二层 MatMul\n",
    "total_ffn_flops = flops_ffn1 + flops_relu + flops_ffn2\n",
    "\n",
    "print(f\"Feed Forward Network (FFN) FLOPs: {total_ffn_flops / 1e6:.2f} MFLOPs\")"
   ]
  },
  {
   "cell_type": "markdown",
   "id": "738ac22b-831c-4cd8-9ccd-019594f1536d",
   "metadata": {},
   "source": [
    "## **Block 6: Layer Normalization & 残差连接**\n",
    "本 block 负责：\n",
    "- **计算 `LayerNorm(x + residual)`**\n",
    "- **查看 `LayerNorm` 输出形状**\n",
    "- **统计 `LayerNorm` FLOPs（计算量）**"
   ]
  },
  {
   "cell_type": "code",
   "execution_count": 161,
   "id": "08a83d5d-c130-4f72-a848-f2aa1dc7c126",
   "metadata": {},
   "outputs": [
    {
     "name": "stdout",
     "output_type": "stream",
     "text": [
      "\n",
      "===== Layer Normalization & 残差连接 计算结果 =====\n",
      "Final Transformer Output Shape: torch.Size([1, 13, 768])\n",
      "LayerNorm FLOPs: 0.10 MFLOPs\n"
     ]
    }
   ],
   "source": [
    "### Block 6: Layer Normalization & 残差连接 ###\n",
    "# 获取 LayerNorm 层\n",
    "layernorm1 = transformer_layer.sa_layer_norm\n",
    "layernorm2 = transformer_layer.output_layer_norm\n",
    "\n",
    "# 残差连接 + LayerNorm\n",
    "residual1 = token_embeddings + attention_output\n",
    "norm1 = layernorm1(residual1)\n",
    "\n",
    "residual2 = norm1 + ffn_output\n",
    "norm2 = layernorm2(residual2)\n",
    "\n",
    "# 打印结果\n",
    "print(\"\\n===== Layer Normalization & 残差连接 计算结果 =====\")\n",
    "print(f\"Final Transformer Output Shape: {norm2.shape}\")\n",
    "\n",
    "# 计算 LayerNorm FLOPs\n",
    "flops_layernorm1 = 5 * seq_length * hidden_dim  # 第一层 LayerNorm\n",
    "flops_layernorm2 = 5 * seq_length * hidden_dim  # 第二层 LayerNorm\n",
    "total_layernorm_flops = flops_layernorm1 + flops_layernorm2\n",
    "\n",
    "print(f\"LayerNorm FLOPs: {total_layernorm_flops / 1e6:.2f} MFLOPs\")"
   ]
  },
  {
   "cell_type": "markdown",
   "id": "46cbf1d5-d76a-4e70-9c22-17cd2700ee56",
   "metadata": {},
   "source": [
    "## **Block 7: Transformer 层整体计算统计**\n",
    "本 block 负责：\n",
    "- **统计 Self-Attention、FFN、LayerNorm 总计算量**\n",
    "- **计算 Transformer 层 FLOPs**\n"
   ]
  },
  {
   "cell_type": "code",
   "execution_count": 164,
   "id": "14368dde-bdaf-4f1d-b007-4cfca9307281",
   "metadata": {},
   "outputs": [
    {
     "name": "stdout",
     "output_type": "stream",
     "text": [
      "\n",
      "===== Transformer 层 FLOPs 计算结果 =====\n",
      "Embedding FLOPs: 0.01 MFLOPs\n",
      "Self-Attention FLOPs: 23.26 MFLOPs\n",
      "Feed Forward Network (FFN) FLOPs: 61.38 MFLOPs\n",
      "LayerNorm FLOPs: 0.10 MFLOPs\n",
      "Total Transformer Layer FLOPs: 84.75 MFLOPs\n",
      "\n",
      "===== 完整模型 总 FLOPs 计算结果 =====\n",
      "Total DistilBERT FLOPs: 0.51 GFLOPs\n"
     ]
    }
   ],
   "source": [
    "# 计算 Transformer 层 FLOPs\n",
    "transformer_layer_flops = total_ebd_flops + total_att_flops + total_ffn_flops + total_layernorm_flops\n",
    "\n",
    "print(\"\\n===== Transformer 层 FLOPs 计算结果 =====\")\n",
    "print(f\"Embedding FLOPs: {total_ebd_flops / 1e6:.2f} MFLOPs\")\n",
    "print(f\"Self-Attention FLOPs: {total_att_flops / 1e6:.2f} MFLOPs\")\n",
    "print(f\"Feed Forward Network (FFN) FLOPs: {total_ffn_flops / 1e6:.2f} MFLOPs\")\n",
    "print(f\"LayerNorm FLOPs: {total_layernorm_flops / 1e6:.2f} MFLOPs\")\n",
    "print(f\"Total Transformer Layer FLOPs: {transformer_layer_flops / 1e6:.2f} MFLOPs\")\n",
    "\n",
    "# 计算整个 DistilBERT 的 FLOPs\n",
    "num_layers = model.config.n_layers  # 获取 Transformer 层数\n",
    "total_distilbert_flops = transformer_layer_flops * num_layers\n",
    "print(\"\\n===== 完整模型 总 FLOPs 计算结果 =====\")\n",
    "print(f\"Total DistilBERT FLOPs: {total_distilbert_flops / 1e9:.2f} GFLOPs\")"
   ]
  },
  {
   "cell_type": "markdown",
   "id": "97877684-f437-416b-ba8a-9d0cd7f9b6c1",
   "metadata": {},
   "source": [
    "## **Block 8: CPU直接运行时间**\n",
    "- **统计 CPU 运行时间**\n",
    "- **计算 `DistilBERT` 在 CPU 上的 FLOPs/s**"
   ]
  },
  {
   "cell_type": "code",
   "execution_count": 175,
   "id": "99bbe1e6-a891-4c41-bf28-2754a781bcae",
   "metadata": {},
   "outputs": [
    {
     "name": "stdout",
     "output_type": "stream",
     "text": [
      "\n",
      "===== CPU 运行时间统计 (FP16) =====\n",
      "Total Execution Time: 0.019826 sec\n",
      "FLOPs per Second (GFLOPs/s): 25.65 GFLOPs/s\n"
     ]
    }
   ],
   "source": [
    "import time\n",
    "\n",
    "# 让 CPU 计算 FP16，以匹配 FPGA 计算精度\n",
    "model.half()\n",
    "\n",
    "# 重新运行完整的 DistilBERT 推理并测量时间\n",
    "start_time = time.time()\n",
    "with torch.no_grad():\n",
    "    outputs = model(**inputs)\n",
    "end_time = time.time()\n",
    "\n",
    "execution_time = end_time - start_time\n",
    "\n",
    "print(f\"\\n===== CPU 运行时间统计 (FP16) =====\")\n",
    "print(f\"Total Execution Time: {execution_time:.6f} sec\")\n",
    "print(f\"FLOPs per Second (GFLOPs/s): {total_distilbert_flops / execution_time / 1e9:.2f} GFLOPs/s\")"
   ]
  },
  {
   "cell_type": "code",
   "execution_count": null,
   "id": "c5697d09-021c-4e31-a621-794721de7d11",
   "metadata": {},
   "outputs": [],
   "source": []
  },
  {
   "cell_type": "markdown",
   "id": "f51cdbcc-36d4-4cc8-a11c-ccba20c2095a",
   "metadata": {},
   "source": [
    "## **Block 9: FPGA 数据传输 (PYNQ)**\n",
    "本 block 负责：\n",
    "- **转换 `Q, K` 为 NumPy 格式**\n",
    "- **准备 FPGA 共享内存（Placeholder）**\n",
    "- **（Placeholder）模拟数据传输到 FPGA**"
   ]
  },
  {
   "cell_type": "code",
   "execution_count": 113,
   "id": "5b2f48c6-599b-47de-924b-3361542393bc",
   "metadata": {},
   "outputs": [
    {
     "name": "stdout",
     "output_type": "stream",
     "text": [
      "\n",
      "===== FPGA 数据传输 (Placeholder) =====\n",
      "Q Shape: (1, 13, 768)\n",
      "K Shape: (1, 13, 768)\n",
      "数据准备完成，等待 FPGA 计算...\n"
     ]
    }
   ],
   "source": [
    "import numpy as np\n",
    "\n",
    "# 确保 Q, K 先 detach，再转换为 NumPy\n",
    "Q_np = Q.detach().cpu().numpy().astype(np.float32)\n",
    "K_np = K.detach().cpu().numpy().astype(np.float32)\n",
    "\n",
    "# Placeholder: 分配 FPGA 共享内存\n",
    "# fpga_Q = allocate(shape=Q_np.shape, dtype=np.float32)\n",
    "# fpga_K = allocate(shape=K_np.shape, dtype=np.float32)\n",
    "# fpga_QK_T = allocate(shape=(Q_np.shape[0], Q_np.shape[1], Q_np.shape[1]), dtype=np.float32)\n",
    "\n",
    "# Placeholder: 将数据传输到 FPGA\n",
    "# np.copyto(fpga_Q, Q_np)\n",
    "# np.copyto(fpga_K, K_np)\n",
    "\n",
    "print(\"\\n===== FPGA 数据传输 (Placeholder) =====\")\n",
    "print(f\"Q Shape: {Q_np.shape}\")\n",
    "print(f\"K Shape: {K_np.shape}\")\n",
    "print(\"数据准备完成，等待 FPGA 计算...\")"
   ]
  },
  {
   "cell_type": "markdown",
   "id": "444096cb-63ae-4475-b440-04708a9c8fdb",
   "metadata": {},
   "source": [
    "## **Block 10: FPGA 计算 QK^T**\n",
    "本 block 负责：\n",
    "- **（Placeholder）调用 FPGA 计算 `QK^T`**\n",
    "- **（Placeholder）读取 FPGA 计算结果**\n",
    "- **记录 FPGA 计算时间**"
   ]
  },
  {
   "cell_type": "code",
   "execution_count": 122,
   "id": "9a133bf7-593a-4a2e-9431-f4f4fb5f7f9e",
   "metadata": {},
   "outputs": [
    {
     "name": "stdout",
     "output_type": "stream",
     "text": [
      "\n",
      "===== FPGA 计算 QK^T (Placeholder) =====\n",
      "FPGA Execution Time (Placeholder): 0.000028 sec\n"
     ]
    }
   ],
   "source": [
    "import time\n",
    "\n",
    "# Placeholder: 记录 FPGA 运行时间\n",
    "fpga_start_time = time.time()\n",
    "\n",
    "# Placeholder: 调用 FPGA 计算\n",
    "# matmul_accel.call(fpga_Q, fpga_K, fpga_QK_T)\n",
    "\n",
    "# Placeholder: 读取 FPGA 结果\n",
    "# fpga_output = np.copy(fpga_QK_T)\n",
    "# fpga_QK_T_torch = torch.tensor(fpga_output)\n",
    "\n",
    "fpga_end_time = time.time()\n",
    "fpga_execution_time = fpga_end_time - fpga_start_time\n",
    "\n",
    "print(\"\\n===== FPGA 计算 QK^T (Placeholder) =====\")\n",
    "# print(f\"FPGA Output Shape: {fpga_QK_T_torch.shape}\")\n",
    "print(f\"FPGA Execution Time (Placeholder): {fpga_execution_time:.6f} sec\")"
   ]
  },
  {
   "cell_type": "markdown",
   "id": "966304d7-b716-4473-a8b6-6d7c185e8f2a",
   "metadata": {},
   "source": [
    "## **Block 11: FPGA 计算性能 vs CPU 性能对比**\n",
    "本 block 负责：\n",
    "- **计算 CPU 运行时间**\n",
    "- **（Placeholder）估算 FPGA 运行时间**\n",
    "- **计算 **FPGA 加速比（暂定 10x）**\n"
   ]
  },
  {
   "cell_type": "code",
   "execution_count": 125,
   "id": "66112184-9722-4585-bb30-b4b514a393e5",
   "metadata": {},
   "outputs": [
    {
     "name": "stdout",
     "output_type": "stream",
     "text": [
      "\n",
      "===== FPGA vs CPU 性能对比 (Placeholder) =====\n",
      "CPU Execution Time: 0.051395 sec\n",
      "FPGA Execution Time (Estimated): 0.005139 sec\n",
      "Estimated Speedup: 10x\n"
     ]
    }
   ],
   "source": [
    "# Placeholder: 假设 FPGA 加速比 = 10x（等 FPGA 代码完成后替换）\n",
    "assumed_fpga_speedup = 10\n",
    "fpga_simulated_execution_time = execution_time / assumed_fpga_speedup  # 估算 FPGA 运行时间\n",
    "\n",
    "print(\"\\n===== FPGA vs CPU 性能对比 (Placeholder) =====\")\n",
    "print(f\"CPU Execution Time: {execution_time:.6f} sec\")\n",
    "print(f\"FPGA Execution Time (Estimated): {fpga_simulated_execution_time:.6f} sec\")\n",
    "print(f\"Estimated Speedup: {assumed_fpga_speedup}x\")"
   ]
  },
  {
   "cell_type": "markdown",
   "id": "6581eefc-984d-4623-8f88-55320b3aa2f3",
   "metadata": {},
   "source": [
    "## **Block 11: 可视化 CPU vs FPGA 加速比**\n",
    "本 block 负责：\n",
    "- **绘制 CPU vs FPGA 运行时间对比图**\n",
    "- **展示 `QK^T` 计算在 CPU 和 FPGA 上的性能差异**"
   ]
  },
  {
   "cell_type": "code",
   "execution_count": 128,
   "id": "c116878f-62fe-4420-a95a-9fbd0fc6acfd",
   "metadata": {},
   "outputs": [
    {
     "data": {
      "image/png": "[encoded data removed]",
      "text/plain": [
       "<Figure size 600x400 with 1 Axes>"
      ]
     },
     "metadata": {},
     "output_type": "display_data"
    }
   ],
   "source": [
    "import matplotlib.pyplot as plt\n",
    "\n",
    "# 真实 CPU 运行时间\n",
    "cpu_times = [execution_time]\n",
    "# 估算的 FPGA 运行时间\n",
    "fpga_times = [fpga_simulated_execution_time]\n",
    "labels = [\"QK^T Calculation\"]\n",
    "\n",
    "# 绘制对比柱状图\n",
    "plt.figure(figsize=(6, 4))\n",
    "plt.bar(labels, cpu_times, width=0.4, label=\"CPU\", color=\"blue\")\n",
    "plt.bar(labels, fpga_times, width=0.4, label=\"FPGA (Estimated)\", color=\"orange\")\n",
    "plt.ylabel(\"Execution Time (seconds)\")\n",
    "plt.title(\"CPU vs FPGA Performance Comparison (Placeholder)\")\n",
    "plt.legend()\n",
    "plt.show()"
   ]
  },
  {
   "cell_type": "code",
   "execution_count": null,
   "id": "3530baee-10f6-4244-b72c-7c2f0c3117fb",
   "metadata": {},
   "outputs": [],
   "source": []
  }
 ],
 "metadata": {
  "kernelspec": {
   "display_name": "Python 3 (ipykernel)",
   "language": "python",
   "name": "python3"
  },
  "language_info": {
   "codemirror_mode": {
    "name": "ipython",
    "version": 3
   },
   "file_extension": ".py",
   "mimetype": "text/x-python",
   "name": "python",
   "nbconvert_exporter": "python",
   "pygments_lexer": "ipython3",
   "version": "3.12.7"
  }
 },
 "nbformat": 4,
 "nbformat_minor": 5
}
