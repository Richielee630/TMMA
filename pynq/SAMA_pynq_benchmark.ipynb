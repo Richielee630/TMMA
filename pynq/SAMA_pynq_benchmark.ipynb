{
 "cells": [
  {
   "cell_type": "markdown",
   "id": "91c95bbf-6ba0-4a17-813e-f6b46b16785e",
   "metadata": {},
   "source": [
    "# Hardware Initialization and Configuration\n",
    "\n",
    "This section initializes the FPGA hardware by loading the overlay bitstream and connecting to the matrix multiplication accelerator IP. The code configures the PL (Programmable Logic) clock and displays the available IP cores and register map of the accelerator.\n",
    "\n",
    "Key components:\n",
    "- Loads the FPGA bitstream for the systolic array matrix multiplier\n",
    "- Displays the current PL clock frequency (100MHz)\n",
    "- Enumerates available IP blocks in the design\n",
    "- Maps the register interface of the matrix multiplication accelerator for control and data exchanges"
   ]
  },
  {
   "cell_type": "code",
   "execution_count": 4,
   "id": "f16e386b-d561-4ddd-b549-302086be0937",
   "metadata": {},
   "outputs": [
    {
     "data": {
      "application/javascript": [
       "\n",
       "try {\n",
       "require(['notebook/js/codecell'], function(codecell) {\n",
       "  codecell.CodeCell.options_default.highlight_modes[\n",
       "      'magic_text/x-csrc'] = {'reg':[/^%%microblaze/]};\n",
       "  Jupyter.notebook.events.one('kernel_ready.Kernel', function(){\n",
       "      Jupyter.notebook.get_cells().map(function(cell){\n",
       "          if (cell.cell_type == 'code'){ cell.auto_highlight(); } }) ;\n",
       "  });\n",
       "});\n",
       "} catch (e) {};\n"
      ]
     },
     "metadata": {},
     "output_type": "display_data"
    },
    {
     "data": {
      "application/javascript": [
       "\n",
       "try {\n",
       "require(['notebook/js/codecell'], function(codecell) {\n",
       "  codecell.CodeCell.options_default.highlight_modes[\n",
       "      'magic_text/x-csrc'] = {'reg':[/^%%pybind11/]};\n",
       "  Jupyter.notebook.events.one('kernel_ready.Kernel', function(){\n",
       "      Jupyter.notebook.get_cells().map(function(cell){\n",
       "          if (cell.cell_type == 'code'){ cell.auto_highlight(); } }) ;\n",
       "  });\n",
       "});\n",
       "} catch (e) {};\n"
      ]
     },
     "metadata": {},
     "output_type": "display_data"
    },
    {
     "name": "stdout",
     "output_type": "stream",
     "text": [
      "current IP PL clock hz: 99.999Mhz\n",
      "dict_keys(['mmult_accel_0', 'zynq_ultra_ps_e_0'])\n",
      "RegisterMap {\n",
      "  CTRL = Register(AP_START=0, AP_DONE=0, AP_IDLE=1, AP_READY=0, RESERVED_1=0, AUTO_RESTART=0, RESERVED_2=0, INTERRUPT=0, RESERVED_3=0),\n",
      "  GIER = Register(Enable=0, RESERVED=0),\n",
      "  IP_IER = Register(CHAN0_INT_EN=0, CHAN1_INT_EN=0, RESERVED_0=0),\n",
      "  IP_ISR = Register(CHAN0_INT_ST=0, CHAN1_INT_ST=0, RESERVED_0=0),\n",
      "  A_1 = Register(A=write-only),\n",
      "  A_2 = Register(A=write-only),\n",
      "  B_1 = Register(B=write-only),\n",
      "  B_2 = Register(B=write-only),\n",
      "  C_1 = Register(C=write-only),\n",
      "  C_2 = Register(C=write-only),\n",
      "  N = Register(N=write-only),\n",
      "  K = Register(K=write-only),\n",
      "  M = Register(M=write-only),\n",
      "  update_A = Register(update_A=write-only)\n",
      "}\n"
     ]
    }
   ],
   "source": [
    "from pynq import Overlay\n",
    "from pynq import Clocks\n",
    "\n",
    "overlay = Overlay(\"/home/ubuntu/workspace/pynq_bitfiles/2-26/MatMul_SA9.bit\")\n",
    "overlay.download()\n",
    "print(f\"current IP PL clock hz: {Clocks.fclk0_mhz}Mhz\")\n",
    "\n",
    "print(overlay.ip_dict.keys())\n",
    "accel_ip = overlay.mmult_accel_0\n",
    "print(accel_ip.register_map)"
   ]
  },
  {
   "cell_type": "markdown",
   "id": "f2c02280-dc6a-4b11-84d5-ecbe4636623a",
   "metadata": {},
   "source": [
    "# Core Functions and Utilities\n",
    "\n",
    "This section implements the core functionality required for FPGA-CPU interaction and performance measurement. It defines functions for matrix multiplication execution and energy measurement.\n",
    "\n",
    "Key components:\n",
    "- `call_fpga()`: Handles memory management and parameter configuration for the hardware accelerator\n",
    "- `read_power()`: Reads system power consumption from the hardware power monitor\n",
    "- `measure_energy()`: Measures energy consumption during function execution\n",
    "- Implements proper memory synchronization between CPU and FPGA using flush/invalidate operations\n",
    "- Supports persistent weight storage optimization via the `update_A` parameter"
   ]
  },
  {
   "cell_type": "code",
   "execution_count": 5,
   "id": "fa1e4f99-aa6b-4685-8b6d-caca9f0688c7",
   "metadata": {},
   "outputs": [],
   "source": [
    "import numpy as np\n",
    "import torch\n",
    "from pynq import allocate\n",
    "\n",
    "def call_fpga(A_buf, B_buf, C_buf, accel_ip, N, K, M, update_A):\n",
    "    \"\"\"\n",
    "    Runs a 2D matrix multiplication on the FPGA accelerator:\n",
    "      (N, K) x (K, M) => (N, M)\n",
    "\n",
    "    A_buf, B_buf, C_buf are PYNQ buffers allocated with shape=(N,K), (K,M), (N,M).\n",
    "    update_A: 1 to load A into BRAM (new input), 0 to reuse persistent A.\n",
    "    \"\"\"\n",
    "    print(\"calling fpga, update_A =\", update_A)\n",
    "    \n",
    "    # Flush input buffers to ensure data consistency.\n",
    "    # Only flush A_buf if we intend to update A (update_A==1).\n",
    "    if update_A:\n",
    "        A_buf.flush()\n",
    "    B_buf.flush()\n",
    "\n",
    "    # Configure the accelerator registers\n",
    "    accel_ip.register_map.A_1 = A_buf.physical_address & 0xFFFFFFFF\n",
    "    accel_ip.register_map.A_2 = (A_buf.physical_address >> 32) & 0xFFFFFFFF\n",
    "    accel_ip.register_map.B_1 = B_buf.physical_address & 0xFFFFFFFF\n",
    "    accel_ip.register_map.B_2 = (B_buf.physical_address >> 32) & 0xFFFFFFFF\n",
    "    accel_ip.register_map.C_1 = C_buf.physical_address & 0xFFFFFFFF\n",
    "    accel_ip.register_map.C_2 = (C_buf.physical_address >> 32) & 0xFFFFFFFF\n",
    "    accel_ip.register_map.N = N\n",
    "    accel_ip.register_map.K = K\n",
    "    accel_ip.register_map.M = M\n",
    "    # Pass the update_A flag to the accelerator\n",
    "    accel_ip.register_map.update_A = update_A\n",
    "\n",
    "    # Start the accelerator\n",
    "    accel_ip.register_map.CTRL.AP_START = 1\n",
    "\n",
    "    # Wait for finish\n",
    "    while accel_ip.register_map.CTRL.AP_DONE == 0:\n",
    "        pass\n",
    "\n",
    "    # Invalidate output buffer so the CPU sees the updated data from DDR\n",
    "    C_buf.invalidate()\n",
    "    \n",
    "def read_power():\n",
    "    \"\"\"Reads power from hwmon2 (returns in Watts)\"\"\"\n",
    "    try:\n",
    "        with open(\"/sys/class/hwmon/hwmon2/power1_input\", \"r\") as f:\n",
    "            power_microwatts = int(f.read().strip())  # Read power in µW\n",
    "            return power_microwatts / 1e6  # Convert to Watts\n",
    "    except FileNotFoundError:\n",
    "        print(\"Power sensor not found\")\n",
    "        return None\n",
    "    \n",
    "def measure_energy(func, *args):\n",
    "    \"\"\"Measures total energy used by `func` in Joules\"\"\"\n",
    "    power_samples = []\n",
    "    timestamps = []\n",
    "\n",
    "    start_time = time.time()\n",
    "\n",
    "    # Run the function while sampling power\n",
    "    result = func(*args)  # Execute the computation\n",
    "\n",
    "    active_power = read_power()  # Measure power after running workload\n",
    "    elapsed_time = time.time() - start_time  # Compute execution time\n",
    "\n",
    "    avg_power = active_power  # Since we measure before & after execution\n",
    "    energy_used = avg_power * elapsed_time  # E = P × t\n",
    "\n",
    "    return result, energy_used, avg_power  # Subtract idle power to isolate workload power"
   ]
  },
  {
   "cell_type": "markdown",
   "id": "8af7e722-6be4-4d6b-a725-0afc25c4dec8",
   "metadata": {
    "tags": []
   },
   "source": [
    "# Memory Allocation and Initialization\n",
    "\n",
    "This section prepares the data structures needed for matrix multiplication benchmarking. It allocates physically contiguous memory buffers accessible by both the CPU and FPGA accelerator.\n",
    "\n",
    "Key components:\n",
    "- Defines matrix dimensions for the benchmark (N=64, K=768, M=3072)\n",
    "- Allocates non-cacheable memory buffers for input matrices A and B and output matrix C\n",
    "- Initializes input matrices with random int8 values to simulate quantized neural network operations\n",
    "- Ensures data consistency by flushing CPU caches to main memory"
   ]
  },
  {
   "cell_type": "code",
   "execution_count": 13,
   "id": "a47aa02a-fcad-4ca3-8782-0eeae5320560",
   "metadata": {},
   "outputs": [],
   "source": [
    "# 2) Prepare Buffers (Using a small example for demonstration)\n",
    "# Suppose we want to multiply a [N, K] x [K, M] => [N, M]\n",
    "# DistilBERT typical Q/K/V matmul: shape [batch*seq_len, 768] x [768, 768]\n",
    "# For demonstration, let’s do a small random size. We’ll adapt logic for DistilBERT below.\n",
    "N, K, M = 64, 768, 3072\n",
    "A_buf = allocate(shape=(N, K), dtype=np.int8, cacheable=False)\n",
    "B_buf = allocate(shape=(K, M), dtype=np.int8, cacheable=False)\n",
    "C_buf = allocate(shape=(N, M), dtype=np.int32, cacheable=False) # accelerator writes int32 results\n",
    "\n",
    "# 3) Initialize Input Data (simulate random int8 values)\n",
    "A_buf[:] = np.random.randint(-128, 127, size=(N,K), dtype=np.int8)\n",
    "B_buf[:] = np.random.randint(-128, 127, size=(K,M), dtype=np.int8)\n",
    "# A_buf[:] = np.zeros((N, K), dtype=np.int8)\n",
    "# B_buf[:] = np.zeros((K, M), dtype=np.int8)\n",
    "\n",
    "# flush caches so data is in DDR\n",
    "A_buf.flush()\n",
    "B_buf.flush()"
   ]
  },
  {
   "cell_type": "markdown",
   "id": "cb6fc545-e0a9-42e8-a8ef-d75795c2fe4d",
   "metadata": {},
   "source": [
    "# FPGA Accelerator Benchmark\n",
    "\n",
    "This section executes and measures the performance of the FPGA-based matrix multiplication accelerator. It captures detailed timing and power metrics for the hardware implementation.\n",
    "\n",
    "Key components:\n",
    "- Separates data transfer time from computation time for accurate performance analysis\n",
    "- Measures system power during accelerator execution\n",
    "- Records energy consumption for the complete hardware pipeline\n",
    "- Implements proper memory transfer protocol (flush before compute, invalidate after compute)\n",
    "- Demonstrates the use of the `measure_energy()` function to capture power efficiency metrics"
   ]
  },
  {
   "cell_type": "code",
   "execution_count": 14,
   "id": "21de160c-2d11-43ef-b155-a6381ce4ff14",
   "metadata": {},
   "outputs": [
    {
     "name": "stdout",
     "output_type": "stream",
     "text": [
      "calling fpga, update_A = 1\n",
      "FPGA Energy: 0.333922 J, Average system power: 3.490 W\n"
     ]
    }
   ],
   "source": [
    "import time\n",
    "\n",
    "# ============================================\n",
    "# 🚀 Step 3: BENCHMARK - FPGA ACCELERATOR\n",
    "# ============================================\n",
    "\n",
    "# FPGA Execution\n",
    "start_data_in = time.time()\n",
    "A_buf.flush()\n",
    "B_buf.flush()\n",
    "end_data_in = time.time()\n",
    "\n",
    "start_power_fpga = read_power()\n",
    "start_fpga = time.time()\n",
    "_,fpga_energy, fpga_power = measure_energy(lambda: call_fpga(A_buf, B_buf, C_buf, accel_ip, N, K, M, update_A=1))\n",
    "end_fpga = time.time()\n",
    "end_power_fpga = read_power()\n",
    "\n",
    "start_data_out = time.time()\n",
    "C_buf.invalidate()\n",
    "result_fpga = C_buf[:, :].copy()\n",
    "end_data_out = time.time()\n",
    "\n",
    "print(f\"FPGA Energy: {fpga_energy:.6f} J, Average system power: {fpga_power:.3f} W\")"
   ]
  },
  {
   "cell_type": "markdown",
   "id": "5daf1797-8df1-43e5-bdd8-b4074341b033",
   "metadata": {},
   "source": [
    "# CPU Reference Implementations\n",
    "\n",
    "This section benchmarks CPU-based matrix multiplication using NumPy and PyTorch libraries as reference implementations. These measurements establish the baseline for evaluating FPGA acceleration benefits.\n",
    "\n",
    "Key components:\n",
    "- Implements NumPy integer matrix multiplication as a reference benchmark\n",
    "- Implements PyTorch tensor-based matrix multiplication as a modern optimized baseline\n",
    "- Measures execution time and energy consumption for both CPU implementations\n",
    "- Enables direct comparison between FPGA and CPU approaches under identical workloads"
   ]
  },
  {
   "cell_type": "code",
   "execution_count": 17,
   "id": "2e0e17bd-e084-4f5e-b8bf-24641805a085",
   "metadata": {},
   "outputs": [
    {
     "name": "stdout",
     "output_type": "stream",
     "text": [
      "NumPy CPU Energy: 70.490563 J, Average system power: 3.380 W\n",
      "PyTorch CPU Energy: 1.350050 J, Average system power: 3.440 W\n"
     ]
    }
   ],
   "source": [
    "# ===========================\n",
    "# 💻 Step 4: CPU REFERENCE (NumPy & PyTorch)\n",
    "# ===========================\n",
    "start_cpu_numpy = time.time()\n",
    "ref_numpy, numpy_energy, numpy_power = measure_energy(lambda: np.matmul(A_buf.astype(np.int32), B_buf.astype(np.int32)))\n",
    "ref_numpy = -1\n",
    "end_cpu_numpy = time.time()\n",
    "\n",
    "start_cpu_torch = time.time()\n",
    "device = torch.device(\"cpu\")\n",
    "ref_torch, torch_energy, torch_power = measure_energy(\n",
    "    lambda: torch.matmul(torch.tensor(A_buf.astype(np.int32)), torch.tensor(B_buf.astype(np.int32)))\n",
    ")\n",
    "ref_torch_np = ref_torch.cpu().numpy()\n",
    "end_cpu_torch = time.time()\n",
    "\n",
    "print(f\"NumPy CPU Energy: {numpy_energy:.6f} J, Average system power: {numpy_power:.3f} W\")\n",
    "print(f\"PyTorch CPU Energy: {torch_energy:.6f} J, Average system power: {torch_power:.3f} W\")"
   ]
  },
  {
   "cell_type": "markdown",
   "id": "d9d49bcb-5d72-48aa-a623-285d48ce43e8",
   "metadata": {},
   "source": [
    "# Result Verification and Accuracy Analysis\n",
    "\n",
    "This section verifies the correctness of the FPGA implementation by comparing its output against CPU reference implementations. It also calculates key performance metrics for comparison.\n",
    "\n",
    "Key components:\n",
    "- Validates accelerator results against NumPy and PyTorch reference implementations\n",
    "- Computes maximum error between hardware and software outputs\n",
    "- Calculates total operations (multiply-accumulate) performed in the matrix multiplication\n",
    "- Computes throughput metrics (operations per second) for all implementations\n",
    "- Prepares speedup metrics comparing the FPGA against CPU implementations"
   ]
  },
  {
   "cell_type": "code",
   "execution_count": 18,
   "id": "6ea710d3-7b1e-49f1-a223-e9b98c671c0c",
   "metadata": {},
   "outputs": [
    {
     "name": "stdout",
     "output_type": "stream",
     "text": [
      "[[-238544   85120   71542 ...   10970 -243562 -340368]\n",
      " [ 111855 -177407  305892 ...   -2240  -87531   -2269]\n",
      " [-220887 -221108  -76009 ... -100878  256056  118634]\n",
      " ...\n",
      " [-339509  105559 -145198 ...    9566  -74882  142282]\n",
      " [  92963  -19708  -27047 ...   60135   27024  144517]\n",
      " [ -56316 -124743  142942 ...   22040  126140  162291]]\n",
      "[[-238544   85120   71542 ...   10970 -243562 -340368]\n",
      " [ 111855 -177407  305892 ...   -2240  -87531   -2269]\n",
      " [-220887 -221108  -76009 ... -100878  256056  118634]\n",
      " ...\n",
      " [-339509  105559 -145198 ...    9566  -74882  142282]\n",
      " [  92963  -19708  -27047 ...   60135   27024  144517]\n",
      " [ -56316 -124743  142942 ...   22040  126140  162291]]\n"
     ]
    }
   ],
   "source": [
    "# ============================\n",
    "# 🧪 Step 5: ACCURACY CHECK\n",
    "# ============================\n",
    "diff_numpy = np.abs(ref_numpy - result_fpga)\n",
    "max_err_numpy = np.max(diff_numpy)\n",
    "\n",
    "diff_torch = np.abs(ref_torch_np - result_fpga)\n",
    "max_err_torch = np.max(diff_torch)\n",
    "\n",
    "# ============================\n",
    "# 📊 Step 6: PERFORMANCE METRICS\n",
    "# ============================\n",
    "total_ops = 2 * N * K * M\n",
    "\n",
    "acc_latency = end_fpga - start_fpga\n",
    "total_hw_time = end_data_out - start_data_in\n",
    "hw_throughput = (total_ops / acc_latency) / 1e9\n",
    "hw_end_to_end = (total_ops / total_hw_time) / 1e9\n",
    "\n",
    "sw_time_numpy = end_cpu_numpy - start_cpu_numpy\n",
    "sw_throughput_numpy = (total_ops / sw_time_numpy) / 1e9\n",
    "speedup_latency_numpy = sw_time_numpy / acc_latency\n",
    "speedup_total_numpy = sw_time_numpy / total_hw_time\n",
    "\n",
    "sw_time_torch = end_cpu_torch - start_cpu_torch\n",
    "sw_throughput_torch = (total_ops / sw_time_torch) / 1e9\n",
    "speedup_latency_torch = sw_time_torch / acc_latency\n",
    "speedup_total_torch = sw_time_torch / total_hw_time\n",
    "\n",
    "print(result_fpga)\n",
    "print(ref_torch_np)"
   ]
  },
  {
   "cell_type": "markdown",
   "id": "80699d1b-b175-4efc-8123-17870fcfac85",
   "metadata": {},
   "source": [
    "# Performance Visualization and Analysis\n",
    "\n",
    "This section presents comprehensive performance metrics and creates visualizations comparing the different implementations. The results highlight the advantages of the FPGA-based accelerator.\n",
    "\n",
    "Key components:\n",
    "- Displays formatted performance summary with emoji indicators for readability\n",
    "- Shows latency, throughput, and energy consumption metrics for all implementations\n",
    "- Calculates and displays speedup factors between FPGA and CPU implementations\n",
    "- Creates publication-quality bar charts comparing:\n",
    "  - Execution time (lower is better)\n",
    "  - Computational throughput (higher is better)\n",
    "  - Energy consumption (lower is better)\n",
    "- Uses logarithmic scale to properly visualize wide-ranging performance differences"
   ]
  },
  {
   "cell_type": "code",
   "execution_count": 19,
   "id": "1c8f89af-31a4-4c8d-b40a-5b299786325f",
   "metadata": {},
   "outputs": [
    {
     "name": "stdout",
     "output_type": "stream",
     "text": [
      "\n",
      "🎯 Performance Comparison\n",
      "🔢 MatMul Shape: [64 , 768] x [768 , 3072]\n",
      "❌ Max difference (NumPy vs FPGA): 765037\n",
      "✅ Max difference (PyTorch vs FPGA): 0\n",
      "\n",
      "📊 Latency & Throughput\n",
      "🧮 NumPy  : ⏱️ 20.856134 sec |  ⚡ 0.01 GFLOPs\n",
      "🔥 PyTorch: ⏱️ 0.393857 sec  |  ⚡ 0.77 GFLOPs\n",
      "🚀 FPGA   : ⏱️ 0.096494 sec  |  ⚡ 3.13 GFLOPs\n",
      "\n",
      "⏱️ Total HW Time : ⏱️ 0.107257 sec  |  ⚡ 2.82 GFLOPs\n",
      "\n",
      "FPGA Speedup vs NumPy   : 216.14x (Latency) | 194.45x (Total) 🚀🚀🚀\n",
      "FPGA Speedup vs PyTorch :   4.08x (Latency) | 3.67x (Total) 🚀\n",
      "\n",
      "✅ Test Completed! 🎯\n"
     ]
    },
    {
     "data": {
      "image/png": "[encoded data removed]",
      "text/plain": [
       "<Figure size 576x720 with 3 Axes>"
      ]
     },
     "metadata": {
      "needs_background": "light"
     },
     "output_type": "display_data"
    }
   ],
   "source": [
    "import matplotlib.pyplot as plt\n",
    "import numpy as np\n",
    "\n",
    "# Determine emoji for accuracy check\n",
    "diff_numpy_emoji = \"❌\" if max_err_numpy != 0 else \"✅\"\n",
    "diff_torch_emoji = \"❌\" if max_err_torch != 0 else \"✅\"\n",
    "\n",
    "# Define speedup emoji function\n",
    "def speedup_emoji(speedup):\n",
    "    if speedup >= 25:\n",
    "        return \"🚀🚀🚀\"\n",
    "    elif speedup >= 10:\n",
    "        return \"🚀🚀\"\n",
    "    elif speedup >= 1:\n",
    "        return \"🚀\"\n",
    "    return \"🐢\"\n",
    "\n",
    "# ================================\n",
    "# 🎯 Step 7: PERFORMANCE SUMMARY\n",
    "# ================================\n",
    "print(\"\\n🎯 Performance Comparison\")\n",
    "print(f\"🔢 MatMul Shape: [{N} , {K}] x [{K} , {M}]\")\n",
    "\n",
    "print(f\"{diff_numpy_emoji} Max difference (NumPy vs FPGA): {max_err_numpy}\")\n",
    "print(f\"{diff_torch_emoji} Max difference (PyTorch vs FPGA): {max_err_torch}\\n\")\n",
    "\n",
    "print(\"📊 Latency & Throughput\")\n",
    "print(f\"🧮 NumPy  : ⏱️ {sw_time_numpy:.6f} sec |  ⚡ {sw_throughput_numpy:.2f} GFLOPs\")\n",
    "print(f\"🔥 PyTorch: ⏱️ {sw_time_torch:.6f} sec  |  ⚡ {sw_throughput_torch:.2f} GFLOPs\")\n",
    "print(f\"🚀 FPGA   : ⏱️ {acc_latency:.6f} sec  |  ⚡ {hw_throughput:.2f} GFLOPs\\n\")\n",
    "\n",
    "print(f\"⏱️ Total HW Time : ⏱️ {total_hw_time:.6f} sec  |  ⚡ {hw_end_to_end:.2f} GFLOPs\\n\")\n",
    "\n",
    "print(f\"FPGA Speedup vs NumPy   : {speedup_latency_numpy:.2f}x (Latency) | {speedup_total_numpy:.2f}x (Total) {speedup_emoji(speedup_latency_numpy)}\")\n",
    "print(f\"FPGA Speedup vs PyTorch :   {speedup_latency_torch:.2f}x (Latency) | {speedup_total_torch:.2f}x (Total) {speedup_emoji(speedup_latency_torch)}\")\n",
    "\n",
    "print(\"\\n✅ Test Completed! 🎯\")\n",
    "\n",
    "# ================================\n",
    "# 📊 Visualization\n",
    "# ================================\n",
    "\n",
    "# Data for plotting\n",
    "frameworks = [\"NumPy\", \"PyTorch\", \"FPGA\"]\n",
    "latencies = [sw_time_numpy, sw_time_torch, acc_latency]  # Lower is better\n",
    "throughputs = [sw_throughput_numpy, sw_throughput_torch, hw_throughput]  # Higher is better\n",
    "energies = [numpy_energy, torch_energy, fpga_energy]  # Energy in Joules\n",
    "\n",
    "x = np.arange(len(frameworks))  # X-axis positions\n",
    "\n",
    "# Create figure\n",
    "fig, (ax1, ax2) = plt.subplots(2, 1, figsize=(8, 10))\n",
    "\n",
    "# Bar width\n",
    "bar_width = 0.4\n",
    "\n",
    "# Plot latency & throughput (first subplot)\n",
    "ax1.bar(x - bar_width / 2, latencies, width=bar_width, label=\"Latency (sec)\", color='royalblue', alpha=0.7)\n",
    "ax1.set_ylabel(\"Latency (seconds)\", color='royalblue')\n",
    "ax1.set_yscale(\"log\")  # Log scale for better visualization\n",
    "\n",
    "ax3 = ax1.twinx()\n",
    "ax3.bar(x + bar_width / 2, throughputs, width=bar_width, label=\"Throughput (GFLOPs)\", color='darkorange', alpha=0.7)\n",
    "ax3.set_ylabel(\"Throughput (GFLOPs)\", color='darkorange')\n",
    "\n",
    "ax1.set_xticks(x)\n",
    "ax1.set_xticklabels(frameworks)\n",
    "ax1.set_title(\"Performance Comparison: Latency & Throughput\")\n",
    "fig.legend(loc=\"upper left\", bbox_to_anchor=(0.1, 0.92))\n",
    "\n",
    "# Plot energy consumption (second subplot)\n",
    "ax2.barh(x, energies, color='forestgreen', alpha=0.7)  # Thinner bars\n",
    "ax2.set_xlabel(\"Energy (Joules)\")\n",
    "ax2.set_yticks(x)\n",
    "ax2.set_yticklabels(frameworks)\n",
    "ax2.set_title(\"Energy Consumption Comparison\")\n",
    "ax2.set_xscale(\"log\")  # Apply log scale to energy axis\n",
    "\n",
    "# Adjust layout and show plot\n",
    "plt.tight_layout()\n",
    "plt.show()"
   ]
  }
 ],
 "metadata": {
  "kernelspec": {
   "display_name": "Python 3 (ipykernel)",
   "language": "python",
   "name": "python3"
  },
  "language_info": {
   "codemirror_mode": {
    "name": "ipython",
    "version": 3
   },
   "file_extension": ".py",
   "mimetype": "text/x-python",
   "name": "python",
   "nbconvert_exporter": "python",
   "pygments_lexer": "ipython3",
   "version": "3.10.12"
  }
 },
 "nbformat": 4,
 "nbformat_minor": 5
}
